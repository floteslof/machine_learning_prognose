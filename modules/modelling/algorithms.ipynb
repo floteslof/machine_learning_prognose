{
 "cells": [
  {
   "cell_type": "markdown",
   "metadata": {},
   "source": [
    "### Import Packages"
   ]
  },
  {
   "cell_type": "code",
   "execution_count": 5,
   "metadata": {},
   "outputs": [],
   "source": [
    "import numpy as np\n",
    "\n",
    "# machine learning specific functions\n",
    "from sklearn.model_selection import train_test_split\n",
    "from sklearn.model_selection import cross_val_score\n",
    "from sklearn.model_selection import StratifiedKFold\n",
    "from sklearn.metrics import classification_report\n",
    "from sklearn.metrics import confusion_matrix\n",
    "from sklearn.metrics import accuracy_score\n",
    "from sklearn.linear_model import LogisticRegression\n",
    "from sklearn.tree import DecisionTreeClassifier\n",
    "from sklearn.neighbors import KNeighborsClassifier\n",
    "from sklearn.discriminant_analysis import LinearDiscriminantAnalysis\n",
    "from sklearn.naive_bayes import GaussianNB\n",
    "from sklearn.svm import SVC\n",
    "\n",
    "%store -r df"
   ]
  },
  {
   "cell_type": "markdown",
   "metadata": {},
   "source": [
    "### Perform Model"
   ]
  },
  {
   "cell_type": "code",
   "execution_count": 7,
   "metadata": {},
   "outputs": [
    {
     "name": "stdout",
     "output_type": "stream",
     "text": [
      "[['Oak Street Weather Station' Timestamp('2015-05-22 15:00:00') nan 7.0]\n",
      " ['Oak Street Weather Station' Timestamp('2015-05-22 17:00:00') nan 6.3]\n",
      " ['Oak Street Weather Station' Timestamp('2015-05-22 18:00:00') nan 6.5]\n",
      " ...\n",
      " ['63rd Street Weather Station' Timestamp('2017-11-08 01:00:00') 3.4 1.1]\n",
      " ['Oak Street Weather Station' Timestamp('2017-11-08 01:00:00') 4.2 1.4]\n",
      " ['Foster Weather Station' Timestamp('2017-11-08 01:00:00') 2.28 nan]] [55.0 56.0 54.0 ... 66.0 59.0 60.0]\n"
     ]
    }
   ],
   "source": [
    "def splitDataset():\n",
    "    array = df.values\n",
    "    X = array[:,0:4]\n",
    "    y = array[:,4]\n",
    "\n",
    "    print(X, y)\n",
    "\n",
    "splitDataset()"
   ]
  }
 ],
 "metadata": {
  "interpreter": {
   "hash": "995467efd1e41a8807f15335eb2d86f73fdfc2099522e9e6f876d89ebc7aaadb"
  },
  "kernelspec": {
   "display_name": "Python 3.7.2 64-bit (system)",
   "language": "python",
   "name": "python3"
  },
  "language_info": {
   "codemirror_mode": {
    "name": "ipython",
    "version": 3
   },
   "file_extension": ".py",
   "mimetype": "text/x-python",
   "name": "python",
   "nbconvert_exporter": "python",
   "pygments_lexer": "ipython3",
   "version": "3.7.2"
  },
  "orig_nbformat": 4
 },
 "nbformat": 4,
 "nbformat_minor": 2
}
